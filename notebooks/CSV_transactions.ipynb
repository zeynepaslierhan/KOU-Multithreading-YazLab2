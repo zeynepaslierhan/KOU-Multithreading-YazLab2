{
 "cells": [
  {
   "cell_type": "markdown",
   "metadata": {},
   "source": [
    "# CSV İşlemleri"
   ]
  },
  {
   "cell_type": "markdown",
   "metadata": {},
   "source": [
    "İndirilen veri seti istenilen şekilde finalData.csv içerisinde saklanıyor. finalData içerisindeki ürünlerin birbiriyle benzerlik hesaplaması yapılıp ayrı bir csv içerisinde kaydediliyor. Sonra bu Csv içerisindeki benzerlik oranı ve ilgili ürün index bilgisine göre arama yapılıyor."
   ]
  },
  {
   "cell_type": "markdown",
   "metadata": {},
   "source": [
    "### İlgili Kütüphanelerin eklenmesi"
   ]
  },
  {
   "cell_type": "code",
   "execution_count": null,
   "metadata": {},
   "outputs": [],
   "source": [
    "import csv"
   ]
  },
  {
   "cell_type": "markdown",
   "metadata": {},
   "source": [
    "### CSV dosyası oluşturma"
   ]
  },
  {
   "cell_type": "code",
   "execution_count": null,
   "metadata": {},
   "outputs": [],
   "source": [
    "fields = ['Product1', 'Product2', 'Similarity'] \n",
    "\n",
    "fileName= \"similarity.csv\""
   ]
  },
  {
   "cell_type": "markdown",
   "metadata": {},
   "source": [
    "fileName isimli csv dosyasının istenilen yerde oluşması için:"
   ]
  },
  {
   "cell_type": "code",
   "execution_count": null,
   "metadata": {},
   "outputs": [],
   "source": [
    "cd \"~/Documents/GitHub/KOU-Multithreading-YazLab2/src/data_set/\""
   ]
  },
  {
   "cell_type": "code",
   "execution_count": null,
   "metadata": {},
   "outputs": [],
   "source": [
    "with open(fileName, 'w') as csvfile: \n",
    "    \n",
    "    # creating a csv writer object \n",
    "    csvwriter = csv.writer(csvfile) \n",
    "        \n",
    "    # writing the fields \n",
    "    csvwriter.writerow(fields)"
   ]
  },
  {
   "cell_type": "markdown",
   "metadata": {},
   "source": [
    "### CSV dosyası içerisinde gezinme"
   ]
  },
  {
   "cell_type": "code",
   "execution_count": null,
   "metadata": {},
   "outputs": [],
   "source": [
    "cd \"~/Documents/GitHub/KOU-Multithreading-YazLab2/src/data_set/\""
   ]
  },
  {
   "cell_type": "code",
   "execution_count": null,
   "metadata": {},
   "outputs": [],
   "source": [
    "with open(\"littleData.csv\",'r') as file:\n",
    "    csvreader = csv.reader(file)\n",
    "    for row in csvreader:\n",
    "        print(row)"
   ]
  },
  {
   "cell_type": "code",
   "execution_count": null,
   "metadata": {},
   "outputs": [],
   "source": [
    "# Dosyanın sonuna kadar gidebilmek için satır sayısı öğrenilir.\n",
    "import pandas as pd\n",
    "data = pd.read_csv(\"littleData.csv\")\n",
    "\n",
    "CsvLen= (len(data))\n",
    "print(\"CSV Satır sayısı=\"+str(CsvLen-1)+\"\\n\")\n",
    "\n",
    "# Son satıra kadar okuma işlemi yapar\n",
    "with open(\"littleData.csv\") as file:\n",
    "    content = file.readlines()\n",
    "    for i in range(1,CsvLen+1):\n",
    "        rows = content[i:]\n",
    "        print(rows[0])"
   ]
  },
  {
   "cell_type": "markdown",
   "metadata": {},
   "source": [
    "Satırların Liste halinde tutulması:"
   ]
  },
  {
   "cell_type": "code",
   "execution_count": null,
   "metadata": {},
   "outputs": [],
   "source": [
    "# Son satıra kadar okuma işlemi yapar\n",
    "with open(\"littleData.csv\") as file:\n",
    "    content = file.readlines()\n",
    "    rows = content[1:]\n",
    "    print(rows[0])\n",
    "\n",
    "    ListRow=rows[0].split(\",\")\n",
    "    print(ListRow)"
   ]
  },
  {
   "cell_type": "markdown",
   "metadata": {},
   "source": [
    "### CSV dosyası içerisinde karşılaştıma yapma"
   ]
  },
  {
   "cell_type": "code",
   "execution_count": null,
   "metadata": {},
   "outputs": [],
   "source": [
    "# Dosyanın sonuna kadar gidebilmek için satır sayısı öğrenilir.\n",
    "import pandas as pd\n",
    "data = pd.read_csv(\"littleData.csv\")\n",
    "\n",
    "CsvLen= (len(data))\n",
    "print(\"CSV Satır sayısı=\"+str(CsvLen-1)+\"\\n\")\n",
    "\n",
    "with open(\"littleData.csv\") as file:\n",
    "    content = file.readlines()\n",
    "    for i in range(1,CsvLen+1):\n",
    "        rows = content[i:]\n",
    "        print(\"------------------------------------------------------------\")\n",
    "        print(rows[0])\n",
    "        print(\"------\")\n",
    "        for j in range(i+1,CsvLen+1):\n",
    "            rows = content[j:]\n",
    "            print(rows[0])"
   ]
  },
  {
   "cell_type": "markdown",
   "metadata": {},
   "source": [
    "### CSV dosyasındaki İki satırın benzerlik oranının hesaplanması"
   ]
  },
  {
   "cell_type": "markdown",
   "metadata": {},
   "source": [
    "Projede similarity.ipynb notebook'u içerisinde yapılan benzerlik oranını kullanarak csv içerisindeki ilgili satırların benzerlik oranı hesaplanır.\n",
    "\n",
    "Aynı CSV dosyası içerisindeki satırlar arasında karşılaştırma yapılır. Bunu yaparken girilen parametre ile sütun sınırlandırılması yapılır. Satırlar arasında karşılaştırma yaparken satırları cümle şeklinde aldığımız için cümleyi virgüllere bölmemiz gerekir. Bu sayede elde ettiğimiz liste ile listenin indexlerinden ilgili sütun bilgisini bulabiliriz.\n",
    "1. Product sütunu için 1. indeks\n",
    "2. Issue sütunu için 2. indeks"
   ]
  },
  {
   "cell_type": "code",
   "execution_count": null,
   "metadata": {},
   "outputs": [],
   "source": [
    "column=2"
   ]
  },
  {
   "cell_type": "code",
   "execution_count": null,
   "metadata": {},
   "outputs": [],
   "source": [
    "cd \"C:/Users/zerha/Documents/GitHub/KOU-Multithreading-YazLab2/src/data_set\""
   ]
  },
  {
   "cell_type": "code",
   "execution_count": null,
   "metadata": {},
   "outputs": [],
   "source": [
    "def similarity(X,Y):\n",
    "    print(X)\n",
    "    print(Y)\n",
    "    X_set=set(X.split())\n",
    "    Y_set=set(Y.split())\n",
    "\n",
    "    maxLen=len(Y_set)\n",
    "    if len(X_set)>len(Y_set):\n",
    "        maxLen=len(X_set)\n",
    "\n",
    "    rvector = X_set.union(Y_set)\n",
    "\n",
    "    similarityValue=0\n",
    "\n",
    "    Xword=0\n",
    "    Yword=0\n",
    "\n",
    "    list_X = X.lower().split()\n",
    "    list_Y = Y.lower().split()\n",
    "\n",
    "    words = []\n",
    "    for w in rvector:\n",
    "        w=w.lower()\n",
    "\n",
    "        if words.count(w) != 0:\n",
    "            continue\n",
    "\n",
    "        words.append(w)\n",
    "\n",
    "        Xword=list_X.count(w)\n",
    "        Yword=list_Y.count(w)\n",
    "        if (Xword != 0 and Yword != 0):\n",
    "            if Xword >=Yword:\n",
    "                similarityValue+=Xword\n",
    "            else: similarityValue+=Yword\n",
    "\n",
    "    similarity = (similarityValue/maxLen)*100\n",
    "    print(similarity)\n",
    "    return similarity"
   ]
  },
  {
   "cell_type": "code",
   "execution_count": null,
   "metadata": {},
   "outputs": [],
   "source": [
    "# Dosyanın sonuna kadar gidebilmek için satır sayısı öğrenilir.\n",
    "import pandas as pd\n",
    "\n",
    "data = pd.read_csv(\"littleData.csv\")\n",
    "threshold=50\n",
    "CsvLen= (len(data))\n",
    "print(\"CSV Satır sayısı=\"+str(CsvLen-1)+\"\\n\")\n",
    "\n",
    "# Son satıra kadar okuma işlemi yapar\n",
    "with open(\"littleData.csv\") as file:\n",
    "    content = file.readlines()\n",
    "    for i in range(1,CsvLen+1):\n",
    "        rows = content[i:]\n",
    "        ListRow1=rows[0].split(\",\")\n",
    "        for j in range(i+1,CsvLen+1):\n",
    "            rows = content[j:]\n",
    "            ListRow2=rows[0].split(\",\")\n",
    "            similarity(ListRow1[column],ListRow2[column])"
   ]
  },
  {
   "cell_type": "code",
   "execution_count": null,
   "metadata": {},
   "outputs": [],
   "source": [
    "# Dosyanın sonuna kadar gidebilmek için satır sayısı öğrenilir.\n",
    "import pandas as pd\n",
    "import threading\n",
    "\n",
    "data = pd.read_csv(\"littleData.csv\")\n",
    "threshold=50\n",
    "CsvLen= (len(data))\n",
    "print(\"CSV Satır sayısı=\"+str(CsvLen-1)+\"\\n\")\n",
    "\n",
    "threads=[]\n",
    "threadsValue=1\n",
    "# Son satıra kadar okuma işlemi yapar\n",
    "with open(\"littleData.csv\") as file:\n",
    "    content = file.readlines()\n",
    "    for i in range(1,CsvLen+1):\n",
    "        rows = content[i:]\n",
    "        ListRow1=rows[0].split(\",\")\n",
    "        for j in range(i+1,CsvLen+1):\n",
    "            rows = content[j:]\n",
    "            ListRow2=rows[0].split(\",\")\n",
    "            t = threading.Thread(target=similarity,name='thread{}'.format(threadsValue), args=(ListRow1[column],ListRow2[column]),)\n",
    "            threadsValue = threadsValue + 1\n",
    "            threads.append(t)\n",
    "            t.start()\n",
    "\n",
    "for thread in threads:\n",
    "    thread.join() "
   ]
  },
  {
   "cell_type": "markdown",
   "metadata": {},
   "source": [
    "### CSV dosyasında arama yapma"
   ]
  }
 ],
 "metadata": {
  "kernelspec": {
   "display_name": "Python 3.10.7 64-bit",
   "language": "python",
   "name": "python3"
  },
  "language_info": {
   "codemirror_mode": {
    "name": "ipython",
    "version": 3
   },
   "file_extension": ".py",
   "mimetype": "text/x-python",
   "name": "python",
   "nbconvert_exporter": "python",
   "pygments_lexer": "ipython3",
   "version": "3.10.7"
  },
  "orig_nbformat": 4,
  "vscode": {
   "interpreter": {
    "hash": "23927d057ea1ea1d04bb1f3ac63fdd253f7a2ce30e20cfc324a9138478ce1a75"
   }
  }
 },
 "nbformat": 4,
 "nbformat_minor": 2
}
