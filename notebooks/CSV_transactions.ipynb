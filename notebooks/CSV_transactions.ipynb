{
 "cells": [
  {
   "cell_type": "markdown",
   "metadata": {},
   "source": [
    "# CSV İşlemleri"
   ]
  },
  {
   "cell_type": "markdown",
   "metadata": {},
   "source": [
    "İndirilen veri seti istenilen şekilde finalData.csv içerisinde saklanıyor. finalData içerisindeki ürünlerin birbiriyle benzerlik hesaplaması yapılıp ayrı bir csv içerisinde kaydediliyor. Sonra bu Csv içerisindeki benzerlik oranı ve ilgili ürün index bilgisine göre arama yapılıyor."
   ]
  },
  {
   "cell_type": "markdown",
   "metadata": {},
   "source": [
    "### İlgili Kütüphanelerin eklenmesi"
   ]
  },
  {
   "cell_type": "code",
   "execution_count": 2,
   "metadata": {},
   "outputs": [],
   "source": [
    "import csv"
   ]
  },
  {
   "cell_type": "markdown",
   "metadata": {},
   "source": [
    "### CSV dosyası oluşturma"
   ]
  },
  {
   "cell_type": "code",
   "execution_count": 3,
   "metadata": {},
   "outputs": [],
   "source": [
    "fields = ['Product1', 'Product2', 'Similarity'] \n",
    "\n",
    "fileName= \"similarity.csv\""
   ]
  },
  {
   "cell_type": "markdown",
   "metadata": {},
   "source": [
    "fileName isimli csv dosyasının istenilen yerde oluşması için:"
   ]
  },
  {
   "cell_type": "code",
   "execution_count": 4,
   "metadata": {},
   "outputs": [
    {
     "name": "stdout",
     "output_type": "stream",
     "text": [
      "C:\\Users\\zerha\\Documents\\GitHub\\KOU-Multithreading-YazLab2\\src\\data_set\n"
     ]
    }
   ],
   "source": [
    "cd \"~/Documents/GitHub/KOU-Multithreading-YazLab2/src/data_set/\""
   ]
  },
  {
   "cell_type": "code",
   "execution_count": 5,
   "metadata": {},
   "outputs": [],
   "source": [
    "with open(fileName, 'w') as csvfile: \n",
    "    \n",
    "    # creating a csv writer object \n",
    "    csvwriter = csv.writer(csvfile) \n",
    "        \n",
    "    # writing the fields \n",
    "    csvwriter.writerow(fields)"
   ]
  },
  {
   "cell_type": "markdown",
   "metadata": {},
   "source": [
    "### CSV dosyası içerisinde gezinme"
   ]
  },
  {
   "cell_type": "code",
   "execution_count": 6,
   "metadata": {},
   "outputs": [
    {
     "name": "stdout",
     "output_type": "stream",
     "text": [
      "['Product1', 'Product2', 'Similarity']\n",
      "[]\n"
     ]
    }
   ],
   "source": [
    "with open(\"similarity.csv\",'r') as file:\n",
    "    csvreader = csv.reader(file)\n",
    "    for row in csvreader:\n",
    "        print(row)\n",
    "        "
   ]
  },
  {
   "cell_type": "code",
   "execution_count": null,
   "metadata": {},
   "outputs": [],
   "source": [
    "# Dosyanın sonuna kadar gidebilmek için satır sayısı öğrenilir.\n",
    "import pandas as pd\n",
    "data = pd.read_csv(\"littleData.csv\")\n",
    "\n",
    "CsvLen= len(data)\n",
    "print(CsvLen)\n",
    "\n",
    "# Son satıra kadar okuma işlemi yapar\n",
    "with open(\"littleData.csv\") as file:\n",
    "    content = file.readlines()\n",
    "    for i in range(1,CsvLen):\n",
    "        print(\"------------------------------------------------------------\")\n",
    "        rows = content[i:]\n",
    "        print(\"------------------------------------------------------------\")\n",
    "        print(rows)\n",
    "        print(\"------------------------------------------------------------\")\n",
    "        for j in range(i+1,CsvLen):"
   ]
  },
  {
   "cell_type": "markdown",
   "metadata": {},
   "source": [
    "### CSV dosyası içerisinde karşılaştıma yapma"
   ]
  },
  {
   "cell_type": "markdown",
   "metadata": {},
   "source": [
    "#### CSV dosyasının satır sayısını bulmak için"
   ]
  },
  {
   "cell_type": "code",
   "execution_count": 39,
   "metadata": {},
   "outputs": [
    {
     "name": "stdout",
     "output_type": "stream",
     "text": [
      "4\n"
     ]
    }
   ],
   "source": [
    "import pandas as pd\n",
    "data = pd.read_csv(\"littleData.csv\")\n",
    "\n",
    "CsvLen= len(data)\n",
    "print(CsvLen)"
   ]
  },
  {
   "cell_type": "code",
   "execution_count": 66,
   "metadata": {},
   "outputs": [
    {
     "name": "stdout",
     "output_type": "stream",
     "text": [
      "------------------------------------------------------------\n",
      "------------------------------------------------------------\n",
      "------------------------------------------------------------\n",
      "0,Checking or savings account,Managing an account,NAVY FEDERAL CREDIT UNION,FL,328XX,3238275\n",
      "\n",
      "------------------------------------------------------------\n",
      "------------------------------------------------------------\n",
      "1,Checking or savings account,Managing an account,BOEING EMPLOYEES CREDIT UNION,WA,98204,3238228\n",
      "\n",
      "------------------------------------------------------------\n",
      "2,Debt collection,Communication tactics,CURO Intermediate Holdings,TX,751XX,3237964\n",
      "\n",
      "------------------------------------------------------------\n",
      "3,Credit reporting credit repair services or other personal consumer reports,Incorrect information on your report,Ad Astra Recovery Services Inc,LA,708XX,3238479\n",
      "------------------------------------------------------------\n",
      "------------------------------------------------------------\n",
      "------------------------------------------------------------\n",
      "1,Checking or savings account,Managing an account,BOEING EMPLOYEES CREDIT UNION,WA,98204,3238228\n",
      "\n",
      "------------------------------------------------------------\n",
      "------------------------------------------------------------\n",
      "2,Debt collection,Communication tactics,CURO Intermediate Holdings,TX,751XX,3237964\n",
      "\n",
      "------------------------------------------------------------\n",
      "3,Credit reporting credit repair services or other personal consumer reports,Incorrect information on your report,Ad Astra Recovery Services Inc,LA,708XX,3238479\n",
      "------------------------------------------------------------\n",
      "------------------------------------------------------------\n",
      "------------------------------------------------------------\n",
      "2,Debt collection,Communication tactics,CURO Intermediate Holdings,TX,751XX,3237964\n",
      "\n",
      "------------------------------------------------------------\n",
      "------------------------------------------------------------\n",
      "3,Credit reporting credit repair services or other personal consumer reports,Incorrect information on your report,Ad Astra Recovery Services Inc,LA,708XX,3238479\n",
      "------------------------------------------------------------\n",
      "------------------------------------------------------------\n",
      "------------------------------------------------------------\n",
      "3,Credit reporting credit repair services or other personal consumer reports,Incorrect information on your report,Ad Astra Recovery Services Inc,LA,708XX,3238479\n",
      "------------------------------------------------------------\n"
     ]
    }
   ],
   "source": [
    "with open(\"littleData.csv\") as file:\n",
    "    content = file.readlines()\n",
    "    for i in range(1,CsvLen+1):\n",
    "        print(\"------------------------------------------------------------\")\n",
    "        print(\"------------------------------------------------------------\")\n",
    "        rows = content[i:]\n",
    "        print(\"------------------------------------------------------------\")\n",
    "        print(rows[0])\n",
    "        print(\"------------------------------------------------------------\")\n",
    "        for j in range(i+1,CsvLen+1):\n",
    "            rows = content[j:]\n",
    "            print(\"------------------------------------------------------------\")\n",
    "            print(rows[0])"
   ]
  },
  {
   "cell_type": "markdown",
   "metadata": {},
   "source": [
    "### CSV dosyasına veri ekleme"
   ]
  },
  {
   "cell_type": "markdown",
   "metadata": {},
   "source": [
    "### CSV dosyasındaki İki satırın benzerlik oranının hesaplanması"
   ]
  },
  {
   "cell_type": "markdown",
   "metadata": {},
   "source": [
    "Projede similarity.ipynb notebook'u içerisinde yapılan benzerlik oranını kullanarak csv içerisindeki ilgili satırların benzerlik oranı hesaplanır."
   ]
  },
  {
   "cell_type": "code",
   "execution_count": null,
   "metadata": {},
   "outputs": [],
   "source": []
  },
  {
   "cell_type": "markdown",
   "metadata": {},
   "source": [
    "### CSV dosyasında arama yapma"
   ]
  }
 ],
 "metadata": {
  "kernelspec": {
   "display_name": "Python 3.10.7 64-bit",
   "language": "python",
   "name": "python3"
  },
  "language_info": {
   "codemirror_mode": {
    "name": "ipython",
    "version": 3
   },
   "file_extension": ".py",
   "mimetype": "text/x-python",
   "name": "python",
   "nbconvert_exporter": "python",
   "pygments_lexer": "ipython3",
   "version": "3.10.7"
  },
  "orig_nbformat": 4,
  "vscode": {
   "interpreter": {
    "hash": "23927d057ea1ea1d04bb1f3ac63fdd253f7a2ce30e20cfc324a9138478ce1a75"
   }
  }
 },
 "nbformat": 4,
 "nbformat_minor": 2
}
