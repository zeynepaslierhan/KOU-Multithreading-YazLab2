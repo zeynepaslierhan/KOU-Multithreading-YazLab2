{
 "cells": [
  {
   "cell_type": "code",
   "execution_count": 5,
   "metadata": {},
   "outputs": [],
   "source": [
    "import threading\n",
    "import time"
   ]
  },
  {
   "cell_type": "code",
   "execution_count": 6,
   "metadata": {},
   "outputs": [],
   "source": [
    "def deneme(timeN, threadName):\n",
    "  print('{} 5 saniye çalışacak'.format(threadName))\n",
    "  time.sleep(timeN)\n",
    "  print('{} 5 saniye çalıştı'.format(threadName))\n"
   ]
  },
  {
   "cell_type": "code",
   "execution_count": 7,
   "metadata": {},
   "outputs": [],
   "source": [
    "threadsNumber = int(input(\"Thread sayısı giriniz: \"))"
   ]
  },
  {
   "cell_type": "code",
   "execution_count": 8,
   "metadata": {},
   "outputs": [],
   "source": [
    "threads=[]\n",
    "start = time.time()"
   ]
  },
  {
   "cell_type": "code",
   "execution_count": 9,
   "metadata": {},
   "outputs": [
    {
     "name": "stdout",
     "output_type": "stream",
     "text": [
      "thread0 5 saniye çalışacak\n",
      "thread0 başladı\n",
      "\n",
      "thread1 5 saniye çalışacak\n",
      "thread1 başladı\n",
      "\n",
      "thread2 5 saniye çalışacak\n",
      "thread2 başladı\n",
      "\n",
      "thread1 5 saniye çalıştı\n",
      "thread2 5 saniye çalıştı\n",
      "thread0 5 saniye çalıştı\n"
     ]
    }
   ],
   "source": [
    "for i in range(threadsNumber):\n",
    "  t = threading.Thread(target = deneme, name='thread{}'.format(i),args = (5,'thread{}'.format(i)))\n",
    "  threads.append(t)\n",
    "  t.start()\n",
    "  print('{} başladı\\n'.format(t.name))\n",
    "  \n",
    "for i in threads:\n",
    "  i.join()\n"
   ]
  },
  {
   "cell_type": "code",
   "execution_count": 10,
   "metadata": {},
   "outputs": [
    {
     "name": "stdout",
     "output_type": "stream",
     "text": [
      "zaman = 5.152953624725342\n"
     ]
    }
   ],
   "source": [
    "end = time.time()\n",
    "print('zaman = {}'.format(end-start))"
   ]
  }
 ],
 "metadata": {
  "kernelspec": {
   "display_name": "Python 3.10.7 64-bit",
   "language": "python",
   "name": "python3"
  },
  "language_info": {
   "codemirror_mode": {
    "name": "ipython",
    "version": 3
   },
   "file_extension": ".py",
   "mimetype": "text/x-python",
   "name": "python",
   "nbconvert_exporter": "python",
   "pygments_lexer": "ipython3",
   "version": "3.10.7"
  },
  "orig_nbformat": 4,
  "vscode": {
   "interpreter": {
    "hash": "23927d057ea1ea1d04bb1f3ac63fdd253f7a2ce30e20cfc324a9138478ce1a75"
   }
  }
 },
 "nbformat": 4,
 "nbformat_minor": 2
}
