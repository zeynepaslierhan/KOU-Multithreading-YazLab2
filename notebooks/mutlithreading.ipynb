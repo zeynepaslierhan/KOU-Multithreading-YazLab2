{
 "cells": [
  {
   "cell_type": "code",
   "execution_count": null,
   "metadata": {},
   "outputs": [],
   "source": [
    "import threading\n",
    "import time"
   ]
  },
  {
   "cell_type": "code",
   "execution_count": null,
   "metadata": {},
   "outputs": [],
   "source": [
    "def deneme(timeN, threadName):\n",
    "  print('{} 5 saniye çalışacak'.format(threadName))\n",
    "  time.sleep(timeN)\n",
    "  print('{} 5 saniye çalıştı'.format(threadName))\n"
   ]
  },
  {
   "cell_type": "code",
   "execution_count": null,
   "metadata": {},
   "outputs": [],
   "source": [
    "threadsNumber = int(input(\"Thread sayısı giriniz: \"))"
   ]
  },
  {
   "cell_type": "code",
   "execution_count": null,
   "metadata": {},
   "outputs": [],
   "source": [
    "threads=[]\n",
    "start = time.time()"
   ]
  },
  {
   "cell_type": "code",
   "execution_count": null,
   "metadata": {},
   "outputs": [],
   "source": [
    "for i in range(threadsNumber):\n",
    "  t = threading.Thread(target = deneme, name='thread{}'.format(i),args = (5,'thread{}'.format(i)))\n",
    "  threads.append(t)\n",
    "  t.start()\n",
    "  print('{} başladı\\n'.format(t.name))\n",
    "  \n",
    "for i in threads:\n",
    "  i.join()\n"
   ]
  },
  {
   "cell_type": "code",
   "execution_count": null,
   "metadata": {},
   "outputs": [],
   "source": [
    "end = time.time()\n",
    "print('zaman = {}'.format(end-start))"
   ]
  },
  {
   "cell_type": "markdown",
   "metadata": {},
   "source": [
    "## Projede kullanılan fonksiyon"
   ]
  },
  {
   "cell_type": "code",
   "execution_count": null,
   "metadata": {},
   "outputs": [],
   "source": [
    "import Threshold_comparison_csv as th_csv\n",
    "import Divide_csv as dv_csv\n",
    "import threading\n",
    "import time\n",
    "\n",
    "def searching_with_mutlithreading(column,threshold,thread):\n",
    "    if thread == 1:\n",
    "        t = threading.Thread(target = th_csv.threshold_func, name='thread{}'.format(j),args = (0,0,column,threshold))\n",
    "        t.start()\n",
    "        t.join()\n",
    "    \n",
    "    if thread % 2 == 0:\n",
    "        thread= thread + 1\n",
    "\n",
    "    files=dv_csv.divide_csvFile(thread-2)\n",
    "    threads=[]\n",
    "    j=0\n",
    "    for i in range(thread-2):\n",
    "        t = threading.Thread(target = th_csv.threshold_func, name='thread{}'.format(j),args = (j,j,column,threshold))\n",
    "        threads.append(t)\n",
    "        t.start()\n",
    "        print('{} başladı\\n'.format(t.name))\n",
    "        j=j+1\n",
    "    \n",
    "    for i in range(thread-3):\n",
    "        t = threading.Thread(target = th_csv.threshold_func, name='thread{}'.format(j),args = (i,i+1,column,threshold))\n",
    "        threads.append(t)\n",
    "        t.start()\n",
    "        print('{} başladı\\n'.format(t.name))\n",
    "  \n",
    "    for i in thread:\n",
    "        i.join()"
   ]
  }
 ],
 "metadata": {
  "kernelspec": {
   "display_name": "Python 3.10.7 64-bit",
   "language": "python",
   "name": "python3"
  },
  "language_info": {
   "codemirror_mode": {
    "name": "ipython",
    "version": 3
   },
   "file_extension": ".py",
   "mimetype": "text/x-python",
   "name": "python",
   "nbconvert_exporter": "python",
   "pygments_lexer": "ipython3",
   "version": "3.10.7"
  },
  "orig_nbformat": 4,
  "vscode": {
   "interpreter": {
    "hash": "23927d057ea1ea1d04bb1f3ac63fdd253f7a2ce30e20cfc324a9138478ce1a75"
   }
  }
 },
 "nbformat": 4,
 "nbformat_minor": 2
}
