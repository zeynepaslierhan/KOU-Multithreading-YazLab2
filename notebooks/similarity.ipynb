{
 "cells": [
  {
   "cell_type": "markdown",
   "metadata": {},
   "source": [
    "# İki Cümle Arasındaki Benzerlik Oranı"
   ]
  },
  {
   "cell_type": "markdown",
   "metadata": {},
   "source": [
    "## Amaç"
   ]
  },
  {
   "cell_type": "markdown",
   "metadata": {},
   "source": [
    "Benzerlik, kayıtların içerdikleri ortak kelime sayısına göre olmalıdır. Örneğin; ilk kayıt 5, ikinci kayıt 4 kelimeden oluşuyorsa ve ortak kelime sayısı 2 ise benzerlik oranı;\n",
    "\n",
    "2 / 5 = % 40"
   ]
  },
  {
   "cell_type": "markdown",
   "metadata": {},
   "source": [
    "## Kodlar"
   ]
  },
  {
   "cell_type": "markdown",
   "metadata": {},
   "source": [
    "Örnek veri girdilerindeki kelimeler, set veri tipindeki değişkenlerde saklanıyor."
   ]
  },
  {
   "cell_type": "code",
   "execution_count": 1,
   "metadata": {},
   "outputs": [],
   "source": [
    "X = \"Credit reporting credit repair services personal consumer reports\"\n",
    "Y = \"Payday loan title loan personal loan\"\n",
    "X_set=set(X.split())\n",
    "Y_set=set(Y.split())"
   ]
  },
  {
   "cell_type": "markdown",
   "metadata": {},
   "source": [
    "Benzerlik oranında iki cümleden en çok kelime içeren cümlenin kelime sayısı paydaya yazılıyor. Maksimuum kelime içeren cümleyi ve kelime sayısını bulmak için aşağıdaki kod bloğu kullanılıyor."
   ]
  },
  {
   "cell_type": "code",
   "execution_count": 2,
   "metadata": {},
   "outputs": [
    {
     "name": "stdout",
     "output_type": "stream",
     "text": [
      "X\n",
      "8\n"
     ]
    }
   ],
   "source": [
    "maxLen=0\n",
    "if len(X_set)>=len(Y_set):\n",
    "  maxLen=len(X_set)\n",
    "  print(\"X\")\n",
    "else:\n",
    "  maxlen=len(Y_set)\n",
    "  print(\"Y\")\n",
    "\n",
    "print(maxLen)"
   ]
  },
  {
   "cell_type": "markdown",
   "metadata": {},
   "source": [
    "Her iki cümlede olan kelimelerin, tek bir list referansında tutuluyor. Bu işlem, cümlelerdeki kelimelerin büyük veya küçük harf duyarlılığıyla yapılıyor."
   ]
  },
  {
   "cell_type": "code",
   "execution_count": 3,
   "metadata": {},
   "outputs": [
    {
     "name": "stdout",
     "output_type": "stream",
     "text": [
      "{'Credit', 'consumer', 'Payday', 'credit', 'personal', 'title', 'reporting', 'loan', 'repair', 'services', 'reports'}\n"
     ]
    }
   ],
   "source": [
    "allWords = X_set.union(Y_set)\n",
    "print(allWords)"
   ]
  },
  {
   "cell_type": "markdown",
   "metadata": {},
   "source": [
    "Benzerlik hesaplamada kullanılacak olan değişkenler"
   ]
  },
  {
   "cell_type": "code",
   "execution_count": 4,
   "metadata": {},
   "outputs": [],
   "source": [
    "similarityValue=0\n",
    "\n",
    "Xword=0\n",
    "Yword=0\n",
    "\n",
    "list_X = X.lower().split()\n",
    "list_Y = Y.lower().split()"
   ]
  },
  {
   "cell_type": "markdown",
   "metadata": {},
   "source": [
    "İki cümlenin benzerik oranı için ihtiyaç duyulan tüm değişken ve bilgileri elde ettikten sonra benzerlik oranını heplayabiliriz. Aşağıdaki kod bloğunda İki cümle arasındaki istenen benzerlik oranı hesaplanmaktadır. Algoritması:\n",
    "1. allWords listesşndeki tüm kelimeler(indexler) için for döngüsü devam eder.\n",
    "2. kelimenin tüm harfleri küçültülür. (Bunun sebebi büyük harf ve küçük harf duyarsız olarak aynı kelimenin cümlelerde olup olmamasını kontrol etmektir.)\n",
    "3. list_X değişkeni içerisinde w kelimesinin kaç kere geçtiği Xword değişkeninde tutulur.\n",
    "4. list_Y değişkeni içerisinde w kelimesinin kaç kere geçtiği Yword değişkeninde tutulur.\n",
    "5. Xword ve Yword değişkenlerinin ikisi de sıfır değilse benzerlik olduğu anlamına gelir.\n",
    "6. Xword ve Yword ifadelerinden hangisi daha büyükse similariyValue değişkenine eklenir.\n",
    "7. For döngüsü bittikten sonra similariyValue, maxLen'e bölünüp 100 ile çarpılarak benzerlik yüzdesi bulunur.\n",
    "\n",
    "**Not:** Xword ve Yword ifadelerinin değerleri her kelime için değişmektedir. *Örneğin* list_X içerisinde w kelimesi hiç geçmiyorda Xword'ün değeri 0 olur. dolayısıyla Yword değeri 0 olmasa bile benzerlik olmadığından if koşuluna girilmez."
   ]
  },
  {
   "cell_type": "code",
   "execution_count": 5,
   "metadata": {},
   "outputs": [
    {
     "name": "stdout",
     "output_type": "stream",
     "text": [
      "similarity: % 12.5\n"
     ]
    }
   ],
   "source": [
    "for w in allWords:\n",
    "    w=w.lower()\n",
    "    Xword=list_X.count(w)\n",
    "    Yword=list_Y.count(w)\n",
    "    if (Xword != 0 and Yword != 0):\n",
    "      if Xword >=Yword:\n",
    "        similarityValue+=Xword\n",
    "      else: similarityValue+=Yword\n",
    "\n",
    "similarity = (similarityValue/maxLen)*100\n",
    "print(\"similarity: %\", similarity)"
   ]
  },
  {
   "cell_type": "markdown",
   "metadata": {},
   "source": [
    "## Fonksiyonda Kullanımı"
   ]
  },
  {
   "cell_type": "markdown",
   "metadata": {},
   "source": [
    "Yukarıdaki işlemlerin parametreli fonksiyon hali:"
   ]
  },
  {
   "cell_type": "code",
   "execution_count": 6,
   "metadata": {},
   "outputs": [],
   "source": [
    "def similarity(X,Y):\n",
    "    \n",
    "    X_set=set(X.split())\n",
    "    Y_set=set(Y.split())\n",
    "\n",
    "    maxLen=0\n",
    "    if len(X_set)>=len(Y_set):\n",
    "        maxLen=len(X_set)\n",
    "    else:\n",
    "        maxlen=len(Y_set)\n",
    "\n",
    "    rvector = X_set.union(Y_set)\n",
    "\n",
    "    similarityValue=0\n",
    "\n",
    "    Xword=0\n",
    "    Yword=0\n",
    "\n",
    "    list_X = X.lower().split()\n",
    "    list_Y = Y.lower().split()\n",
    "\n",
    "    for w in rvector:\n",
    "        w=w.lower()\n",
    "        Xword=list_X.count(w)\n",
    "        Yword=list_Y.count(w)\n",
    "        if (Xword != 0 and Yword != 0):\n",
    "            if Xword >=Yword:\n",
    "                similarityValue+=Xword\n",
    "            else: similarityValue+=Yword\n",
    "\n",
    "    similarity = (similarityValue/maxLen)*100\n",
    "    print(\"similarity: %\", similarity)\n",
    "\n",
    "    return similarity\n"
   ]
  }
 ],
 "metadata": {
  "kernelspec": {
   "display_name": "Python 3.10.7 64-bit",
   "language": "python",
   "name": "python3"
  },
  "language_info": {
   "codemirror_mode": {
    "name": "ipython",
    "version": 3
   },
   "file_extension": ".py",
   "mimetype": "text/x-python",
   "name": "python",
   "nbconvert_exporter": "python",
   "pygments_lexer": "ipython3",
   "version": "3.10.7"
  },
  "orig_nbformat": 4,
  "vscode": {
   "interpreter": {
    "hash": "23927d057ea1ea1d04bb1f3ac63fdd253f7a2ce30e20cfc324a9138478ce1a75"
   }
  }
 },
 "nbformat": 4,
 "nbformat_minor": 2
}
