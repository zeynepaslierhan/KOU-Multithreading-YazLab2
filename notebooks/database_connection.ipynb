{
 "cells": [
  {
   "cell_type": "code",
   "execution_count": 1,
   "metadata": {},
   "outputs": [],
   "source": [
    "import pypyodbc as odbc\n",
    "import pandas as pd"
   ]
  },
  {
   "cell_type": "code",
   "execution_count": 6,
   "metadata": {},
   "outputs": [
    {
     "data": {
      "text/plain": [
       "['SQL Server',\n",
       " 'SQL Server Native Client 11.0',\n",
       " 'SQL Server Native Client RDA 11.0',\n",
       " 'ODBC Driver 17 for SQL Server',\n",
       " 'ODBC Driver 17 for SQL Server']"
      ]
     },
     "execution_count": 6,
     "metadata": {},
     "output_type": "execute_result"
    }
   ],
   "source": [
    "odbc.drivers()"
   ]
  },
  {
   "cell_type": "code",
   "execution_count": 14,
   "metadata": {},
   "outputs": [
    {
     "name": "stdout",
     "output_type": "stream",
     "text": [
      "DRIVER=SQL Server;SERVER=.;DATABASE=TEST;Trusted_Connection=yes;\n"
     ]
    }
   ],
   "source": [
    "DRIVER_NAME=\"SQL Server\"\n",
    "SERVER_NAME=\".\"\n",
    "DATABASE_NAME=\"TEST\"\n",
    "\n",
    "conn_str = \"DRIVER=\"+DRIVER_NAME+\";SERVER=\"+SERVER_NAME+\";DATABASE=\"+DATABASE_NAME+\";Trusted_Connection=yes;\"\n",
    "\n",
    "print(conn_str)"
   ]
  },
  {
   "cell_type": "code",
   "execution_count": 15,
   "metadata": {},
   "outputs": [],
   "source": [
    "conn= odbc.connect(conn_str)\n",
    "cursor = conn.cursor()"
   ]
  },
  {
   "cell_type": "code",
   "execution_count": 16,
   "metadata": {},
   "outputs": [
    {
     "data": {
      "text/plain": [
       "<pypyodbc.Cursor at 0x22d14243130>"
      ]
     },
     "execution_count": 16,
     "metadata": {},
     "output_type": "execute_result"
    }
   ],
   "source": [
    "cursor.execute(\"CREATE TABLE aa (deneme bigint)\")"
   ]
  },
  {
   "cell_type": "code",
   "execution_count": 14,
   "metadata": {},
   "outputs": [
    {
     "data": {
      "text/html": [
       "<div>\n",
       "<style scoped>\n",
       "    .dataframe tbody tr th:only-of-type {\n",
       "        vertical-align: middle;\n",
       "    }\n",
       "\n",
       "    .dataframe tbody tr th {\n",
       "        vertical-align: top;\n",
       "    }\n",
       "\n",
       "    .dataframe thead th {\n",
       "        text-align: right;\n",
       "    }\n",
       "</style>\n",
       "<table border=\"1\" class=\"dataframe\">\n",
       "  <thead>\n",
       "    <tr style=\"text-align: right;\">\n",
       "      <th></th>\n",
       "      <th>Unnamed: 0</th>\n",
       "      <th>Product</th>\n",
       "      <th>Issue</th>\n",
       "      <th>Company</th>\n",
       "      <th>State</th>\n",
       "      <th>ZIP code</th>\n",
       "      <th>Complaint ID</th>\n",
       "    </tr>\n",
       "  </thead>\n",
       "  <tbody>\n",
       "    <tr>\n",
       "      <th>0</th>\n",
       "      <td>0</td>\n",
       "      <td>Checking or savings account</td>\n",
       "      <td>Managing an account</td>\n",
       "      <td>NAVY FEDERAL CREDIT UNION</td>\n",
       "      <td>FL</td>\n",
       "      <td>328XX</td>\n",
       "      <td>3238275</td>\n",
       "    </tr>\n",
       "    <tr>\n",
       "      <th>1</th>\n",
       "      <td>1</td>\n",
       "      <td>Checking or savings account</td>\n",
       "      <td>Managing an account</td>\n",
       "      <td>BOEING EMPLOYEES CREDIT UNION</td>\n",
       "      <td>WA</td>\n",
       "      <td>98204</td>\n",
       "      <td>3238228</td>\n",
       "    </tr>\n",
       "    <tr>\n",
       "      <th>2</th>\n",
       "      <td>2</td>\n",
       "      <td>Debt collection</td>\n",
       "      <td>Communication tactics</td>\n",
       "      <td>CURO Intermediate Holdings</td>\n",
       "      <td>TX</td>\n",
       "      <td>751XX</td>\n",
       "      <td>3237964</td>\n",
       "    </tr>\n",
       "    <tr>\n",
       "      <th>3</th>\n",
       "      <td>3</td>\n",
       "      <td>Credit reporting credit repair services or oth...</td>\n",
       "      <td>Incorrect information on your report</td>\n",
       "      <td>Ad Astra Recovery Services Inc</td>\n",
       "      <td>LA</td>\n",
       "      <td>708XX</td>\n",
       "      <td>3238479</td>\n",
       "    </tr>\n",
       "    <tr>\n",
       "      <th>4</th>\n",
       "      <td>4</td>\n",
       "      <td>Checking or savings account</td>\n",
       "      <td>Managing an account</td>\n",
       "      <td>ALLY FINANCIAL INC</td>\n",
       "      <td>AZ</td>\n",
       "      <td>85205</td>\n",
       "      <td>3238460</td>\n",
       "    </tr>\n",
       "  </tbody>\n",
       "</table>\n",
       "</div>"
      ],
      "text/plain": [
       "   Unnamed: 0                                            Product  \\\n",
       "0           0                        Checking or savings account   \n",
       "1           1                        Checking or savings account   \n",
       "2           2                                    Debt collection   \n",
       "3           3  Credit reporting credit repair services or oth...   \n",
       "4           4                        Checking or savings account   \n",
       "\n",
       "                                  Issue                         Company State  \\\n",
       "0                   Managing an account       NAVY FEDERAL CREDIT UNION    FL   \n",
       "1                   Managing an account   BOEING EMPLOYEES CREDIT UNION    WA   \n",
       "2                 Communication tactics      CURO Intermediate Holdings    TX   \n",
       "3  Incorrect information on your report  Ad Astra Recovery Services Inc    LA   \n",
       "4                   Managing an account              ALLY FINANCIAL INC    AZ   \n",
       "\n",
       "  ZIP code  Complaint ID  \n",
       "0    328XX       3238275  \n",
       "1    98204       3238228  \n",
       "2    751XX       3237964  \n",
       "3    708XX       3238479  \n",
       "4    85205       3238460  "
      ]
     },
     "execution_count": 14,
     "metadata": {},
     "output_type": "execute_result"
    }
   ],
   "source": [
    "finaldata = pd.read_csv(\"~/Documents/GitHub/KOU-Multithreading-YazLab2/src/data_set/finalData.csv\")\n",
    "finaldata.head()"
   ]
  },
  {
   "cell_type": "code",
   "execution_count": 57,
   "metadata": {},
   "outputs": [
    {
     "name": "stdout",
     "output_type": "stream",
     "text": [
      "['Product', 'Issue', 'Company', 'State', 'ZIP code', 'Complaint ID']\n",
      "Product varchar(MAX), Issue varchar(MAX), Company varchar(MAX), State varchar(MAX), ZIP code varchar(MAX), Complaint ID varchar(MAX)\n"
     ]
    }
   ],
   "source": [
    "Listcolumns = data.columns.tolist()\n",
    "Listcolumns.pop(0)\n",
    "print(Listcolumns)\n",
    "Tablecolumns = ' varchar(MAX), '.join(Listcolumns)\n",
    "Tablecolumns=Tablecolumns+\" varchar(MAX)\"\n",
    "print(Tablecolumns)"
   ]
  },
  {
   "cell_type": "code",
   "execution_count": 59,
   "metadata": {},
   "outputs": [
    {
     "name": "stdout",
     "output_type": "stream",
     "text": [
      "CREATE TABLE Data (Product varchar(MAX), Issue varchar(MAX), Company varchar(MAX), State varchar(MAX), ZIP code varchar(MAX), Complaint ID varchar(MAX))\n"
     ]
    }
   ],
   "source": [
    "sql_Create = \"CREATE TABLE Data ({0})\".format(Tablecolumns)\n",
    "print(sql_Create)"
   ]
  }
 ],
 "metadata": {
  "kernelspec": {
   "display_name": "Python 3.10.7 64-bit",
   "language": "python",
   "name": "python3"
  },
  "language_info": {
   "codemirror_mode": {
    "name": "ipython",
    "version": 3
   },
   "file_extension": ".py",
   "mimetype": "text/x-python",
   "name": "python",
   "nbconvert_exporter": "python",
   "pygments_lexer": "ipython3",
   "version": "3.10.7"
  },
  "orig_nbformat": 4,
  "vscode": {
   "interpreter": {
    "hash": "23927d057ea1ea1d04bb1f3ac63fdd253f7a2ce30e20cfc324a9138478ce1a75"
   }
  }
 },
 "nbformat": 4,
 "nbformat_minor": 2
}
